{
 "cells": [
  {
   "cell_type": "markdown",
   "metadata": {},
   "source": [
    "# Google Play Apps and Reviews"
   ]
  },
  {
   "cell_type": "markdown",
   "metadata": {},
   "source": [
    "Se examinan los archivos disponibles:\n",
    "apps.csv, user_reviews.csv.\n",
    "El primero contiene todos los detalles de las aplicaciones de Google Play, hay 13 caraterísticas que describen una app dada. En el segundo archivo hay 100 observaciones para cada app, el texto en cada observación ha sido pre-procesada y atribuida con tres nuevas características: Sentiment (Positive, Negatice, Neutral), Sentiment Polarity and Sentiment Subjetivity."
   ]
  },
  {
   "cell_type": "code",
   "execution_count": 1,
   "metadata": {},
   "outputs": [
    {
     "name": "stdout",
     "output_type": "stream",
     "text": [
      "Número total de apps en el dataset =  Unnamed: 0        9659\n",
      "App               9659\n",
      "Category          9659\n",
      "Rating            8196\n",
      "Reviews           9659\n",
      "Size              8432\n",
      "Installs          9659\n",
      "Type              9659\n",
      "Price             9659\n",
      "Content Rating    9659\n",
      "Genres            9659\n",
      "Last Updated      9659\n",
      "Current Ver       9651\n",
      "Android Ver       9657\n",
      "dtype: int64\n",
      "   Unnamed: 0                                                App  \\\n",
      "0           0     Photo Editor & Candy Camera & Grid & ScrapBook   \n",
      "1           1                                Coloring book moana   \n",
      "2           2  U Launcher Lite – FREE Live Cool Themes, Hide ...   \n",
      "3           3                              Sketch - Draw & Paint   \n",
      "4           4              Pixel Draw - Number Art Coloring Book   \n",
      "\n",
      "         Category  Rating  Reviews  Size     Installs  Type Price  \\\n",
      "0  ART_AND_DESIGN     4.1      159  19.0      10,000+  Free     0   \n",
      "1  ART_AND_DESIGN     3.9      967  14.0     500,000+  Free     0   \n",
      "2  ART_AND_DESIGN     4.7    87510   8.7   5,000,000+  Free     0   \n",
      "3  ART_AND_DESIGN     4.5   215644  25.0  50,000,000+  Free     0   \n",
      "4  ART_AND_DESIGN     4.3      967   2.8     100,000+  Free     0   \n",
      "\n",
      "  Content Rating                     Genres      Last Updated  \\\n",
      "0       Everyone               Art & Design   January 7, 2018   \n",
      "1       Everyone  Art & Design;Pretend Play  January 15, 2018   \n",
      "2       Everyone               Art & Design    August 1, 2018   \n",
      "3           Teen               Art & Design      June 8, 2018   \n",
      "4       Everyone    Art & Design;Creativity     June 20, 2018   \n",
      "\n",
      "          Current Ver   Android Ver  \n",
      "0               1.0.0  4.0.3 and up  \n",
      "1               2.0.0  4.0.3 and up  \n",
      "2               1.2.4  4.0.3 and up  \n",
      "3  Varies with device    4.2 and up  \n",
      "4                 1.1    4.4 and up  \n"
     ]
    }
   ],
   "source": [
    "import pandas as pd\n",
    "apps_with_duplicates = pd.read_csv('processed-android/apps.csv')\n",
    "\n",
    "# Borrar duplicados de apps_with_duplicates\n",
    "apps = apps_with_duplicates.drop_duplicates()\n",
    "\n",
    "# Mostrar el número total de apps\n",
    "print('Número total de apps en el dataset = ',apps.count())\n",
    "\n",
    "# Mirar los primeros cinco registros\n",
    "print(apps.head())"
   ]
  },
  {
   "cell_type": "markdown",
   "metadata": {},
   "source": [
    "## Limpieza de Datos\n"
   ]
  },
  {
   "cell_type": "markdown",
   "metadata": {},
   "source": [
    "El código anterior se observaron registros de una muestra aleatoria del dataset, se puede observar que en algunas entradas como Installs and Price tienen caracteres especiales (+, $) debido a la naturaleza de lo que representan los números. Esto resulta en que las columnas no guardan números puramente, lo que dificulta usarlos para futuros cálculos matemáticos."
   ]
  },
  {
   "cell_type": "markdown",
   "metadata": {},
   "source": [
    "Procedemos a limpiar los datos, específiamente, los caracteres * y $ presentes en las columnas Installs, Price tienen que ser removidos."
   ]
  },
  {
   "cell_type": "code",
   "execution_count": 2,
   "metadata": {},
   "outputs": [
    {
     "name": "stdout",
     "output_type": "stream",
     "text": [
      "<class 'pandas.core.frame.DataFrame'>\n",
      "Int64Index: 9659 entries, 0 to 9658\n",
      "Data columns (total 14 columns):\n",
      " #   Column          Non-Null Count  Dtype  \n",
      "---  ------          --------------  -----  \n",
      " 0   Unnamed: 0      9659 non-null   int64  \n",
      " 1   App             9659 non-null   object \n",
      " 2   Category        9659 non-null   object \n",
      " 3   Rating          8196 non-null   float64\n",
      " 4   Reviews         9659 non-null   int64  \n",
      " 5   Size            8432 non-null   float64\n",
      " 6   Installs        9659 non-null   object \n",
      " 7   Type            9659 non-null   object \n",
      " 8   Price           9659 non-null   object \n",
      " 9   Content Rating  9659 non-null   object \n",
      " 10  Genres          9659 non-null   object \n",
      " 11  Last Updated    9659 non-null   object \n",
      " 12  Current Ver     9651 non-null   object \n",
      " 13  Android Ver     9657 non-null   object \n",
      "dtypes: float64(2), int64(2), object(10)\n",
      "memory usage: 1.1+ MB\n"
     ]
    }
   ],
   "source": [
    "# Lista de caracteres a remover\n",
    "char_to_remove = ['+',',','$']\n",
    "\n",
    "# Lista de los nombres de las columnas a limpiar\n",
    "cols_to_clean = ['Installs','Price']\n",
    "\n",
    "# Loop para cada  columa en cols_to_clean\n",
    "for col in cols_to_clean:\n",
    "    # Loop para cada caracter en char_to_remove\n",
    "    for char in char_to_remove:\n",
    "        # Reemplazar el caracter con un string vacío\n",
    "        apps[col] = apps[col].apply(lambda x:x.replace(char,'')) \n",
    "        \n",
    "# Mostrar información del DataFrame apps\n",
    "apps.info()"
   ]
  },
  {
   "cell_type": "markdown",
   "metadata": {},
   "source": [
    "## Corregir el tipo de dato\n",
    "La información para las columnas Installs y Price muestra que fueron categorizados con el tipo de dato object, esto debido a que originalmente las dos columnas tenían múltiples tipos de datos: dígitos y caracteres especiales. Sin embargo, lo que se quiere es que sea Int o Float, ya que serán de las columnas con  las que mayormente se trabajará. A continuación se convierte el tipo de dato de estas columnas como númericos."
   ]
  },
  {
   "cell_type": "code",
   "execution_count": null,
   "metadata": {},
   "outputs": [],
   "source": []
  }
 ],
 "metadata": {
  "interpreter": {
   "hash": "6daafde458c91985921ca8873941c7fc8596b3d11acd80ac3b5757909a4c7017"
  },
  "kernelspec": {
   "display_name": "Python 3.9.12 ('base')",
   "language": "python",
   "name": "python3"
  },
  "language_info": {
   "codemirror_mode": {
    "name": "ipython",
    "version": 3
   },
   "file_extension": ".py",
   "mimetype": "text/x-python",
   "name": "python",
   "nbconvert_exporter": "python",
   "pygments_lexer": "ipython3",
   "version": "3.9.12"
  },
  "orig_nbformat": 4
 },
 "nbformat": 4,
 "nbformat_minor": 2
}
